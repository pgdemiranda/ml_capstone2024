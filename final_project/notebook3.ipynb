{
 "cells": [
  {
   "cell_type": "code",
   "execution_count": 65,
   "metadata": {},
   "outputs": [],
   "source": [
    "import numpy as np\n",
    "import pandas as pd\n",
    "import re\n",
    "import warnings\n",
    "\n",
    "from sklearn.preprocessing import StandardScaler, LabelEncoder\n",
    "from sklearn.model_selection import train_test_split\n",
    "from sklearn.metrics import mean_absolute_error, mean_absolute_percentage_error, mean_squared_error\n",
    "from sklearn.model_selection import cross_val_score\n",
    "\n",
    "import torch\n",
    "import torch.nn as nn\n",
    "import torch.optim as optim\n",
    "from torch.utils.data import DataLoader, TensorDataset\n",
    "\n",
    "import pickle"
   ]
  },
  {
   "cell_type": "code",
   "execution_count": 66,
   "metadata": {},
   "outputs": [],
   "source": [
    "warnings.filterwarnings(action=\"ignore\")\n",
    "warnings.filterwarnings(\"ignore\", category=UserWarning)\n",
    "warnings.filterwarnings(\"ignore\", category=FutureWarning)"
   ]
  },
  {
   "cell_type": "markdown",
   "metadata": {},
   "source": [
    "# 1.0. Data Reading and Cleaning"
   ]
  },
  {
   "cell_type": "code",
   "execution_count": 67,
   "metadata": {},
   "outputs": [],
   "source": [
    "dataset = './data/tabela-fipe-historico-precos.csv'\n",
    "df_raw = pd.read_csv(dataset)"
   ]
  },
  {
   "cell_type": "code",
   "execution_count": 68,
   "metadata": {},
   "outputs": [
    {
     "data": {
      "text/html": [
       "<div>\n",
       "<style scoped>\n",
       "    .dataframe tbody tr th:only-of-type {\n",
       "        vertical-align: middle;\n",
       "    }\n",
       "\n",
       "    .dataframe tbody tr th {\n",
       "        vertical-align: top;\n",
       "    }\n",
       "\n",
       "    .dataframe thead th {\n",
       "        text-align: right;\n",
       "    }\n",
       "</style>\n",
       "<table border=\"1\" class=\"dataframe\">\n",
       "  <thead>\n",
       "    <tr style=\"text-align: right;\">\n",
       "      <th></th>\n",
       "      <th>Unnamed: 0</th>\n",
       "      <th>codigoFipe</th>\n",
       "      <th>marca</th>\n",
       "      <th>modelo</th>\n",
       "      <th>anoModelo</th>\n",
       "      <th>mesReferencia</th>\n",
       "      <th>anoReferencia</th>\n",
       "      <th>valor</th>\n",
       "    </tr>\n",
       "  </thead>\n",
       "  <tbody>\n",
       "    <tr>\n",
       "      <th>0</th>\n",
       "      <td>0</td>\n",
       "      <td>038003-2</td>\n",
       "      <td>Acura</td>\n",
       "      <td>Integra GS 1.8</td>\n",
       "      <td>1992</td>\n",
       "      <td>11</td>\n",
       "      <td>2016</td>\n",
       "      <td>13041.0</td>\n",
       "    </tr>\n",
       "    <tr>\n",
       "      <th>1</th>\n",
       "      <td>1</td>\n",
       "      <td>038001-6</td>\n",
       "      <td>Acura</td>\n",
       "      <td>NSX 3.0</td>\n",
       "      <td>1995</td>\n",
       "      <td>3</td>\n",
       "      <td>2013</td>\n",
       "      <td>52339.0</td>\n",
       "    </tr>\n",
       "    <tr>\n",
       "      <th>2</th>\n",
       "      <td>2</td>\n",
       "      <td>038003-2</td>\n",
       "      <td>Acura</td>\n",
       "      <td>Integra GS 1.8</td>\n",
       "      <td>1992</td>\n",
       "      <td>3</td>\n",
       "      <td>2018</td>\n",
       "      <td>12423.0</td>\n",
       "    </tr>\n",
       "    <tr>\n",
       "      <th>3</th>\n",
       "      <td>3</td>\n",
       "      <td>038002-4</td>\n",
       "      <td>Acura</td>\n",
       "      <td>Legend 3.2/3.5</td>\n",
       "      <td>1998</td>\n",
       "      <td>5</td>\n",
       "      <td>2016</td>\n",
       "      <td>31067.0</td>\n",
       "    </tr>\n",
       "    <tr>\n",
       "      <th>4</th>\n",
       "      <td>4</td>\n",
       "      <td>038002-4</td>\n",
       "      <td>Acura</td>\n",
       "      <td>Legend 3.2/3.5</td>\n",
       "      <td>1998</td>\n",
       "      <td>2</td>\n",
       "      <td>2019</td>\n",
       "      <td>26381.0</td>\n",
       "    </tr>\n",
       "  </tbody>\n",
       "</table>\n",
       "</div>"
      ],
      "text/plain": [
       "   Unnamed: 0 codigoFipe  marca          modelo  anoModelo  mesReferencia  \\\n",
       "0           0   038003-2  Acura  Integra GS 1.8       1992             11   \n",
       "1           1   038001-6  Acura         NSX 3.0       1995              3   \n",
       "2           2   038003-2  Acura  Integra GS 1.8       1992              3   \n",
       "3           3   038002-4  Acura  Legend 3.2/3.5       1998              5   \n",
       "4           4   038002-4  Acura  Legend 3.2/3.5       1998              2   \n",
       "\n",
       "   anoReferencia    valor  \n",
       "0           2016  13041.0  \n",
       "1           2013  52339.0  \n",
       "2           2018  12423.0  \n",
       "3           2016  31067.0  \n",
       "4           2019  26381.0  "
      ]
     },
     "execution_count": 68,
     "metadata": {},
     "output_type": "execute_result"
    }
   ],
   "source": [
    "df_raw.head()"
   ]
  },
  {
   "cell_type": "code",
   "execution_count": 69,
   "metadata": {},
   "outputs": [
    {
     "data": {
      "text/plain": [
       "(466020, 8)"
      ]
     },
     "execution_count": 69,
     "metadata": {},
     "output_type": "execute_result"
    }
   ],
   "source": [
    "df_raw.shape"
   ]
  },
  {
   "cell_type": "code",
   "execution_count": 70,
   "metadata": {},
   "outputs": [
    {
     "data": {
      "text/plain": [
       "Index(['Unnamed: 0', 'codigoFipe', 'marca', 'modelo', 'anoModelo',\n",
       "       'mesReferencia', 'anoReferencia', 'valor'],\n",
       "      dtype='object')"
      ]
     },
     "execution_count": 70,
     "metadata": {},
     "output_type": "execute_result"
    }
   ],
   "source": [
    "df_raw.columns"
   ]
  },
  {
   "cell_type": "code",
   "execution_count": 71,
   "metadata": {},
   "outputs": [
    {
     "name": "stdout",
     "output_type": "stream",
     "text": [
      "<class 'pandas.core.frame.DataFrame'>\n",
      "RangeIndex: 466020 entries, 0 to 466019\n",
      "Data columns (total 8 columns):\n",
      " #   Column         Non-Null Count   Dtype  \n",
      "---  ------         --------------   -----  \n",
      " 0   Unnamed: 0     466020 non-null  int64  \n",
      " 1   codigoFipe     466020 non-null  object \n",
      " 2   marca          466020 non-null  object \n",
      " 3   modelo         466020 non-null  object \n",
      " 4   anoModelo      466020 non-null  int64  \n",
      " 5   mesReferencia  466020 non-null  int64  \n",
      " 6   anoReferencia  466020 non-null  int64  \n",
      " 7   valor          466020 non-null  float64\n",
      "dtypes: float64(1), int64(4), object(3)\n",
      "memory usage: 28.4+ MB\n"
     ]
    }
   ],
   "source": [
    "df_raw.info()"
   ]
  },
  {
   "cell_type": "code",
   "execution_count": 72,
   "metadata": {},
   "outputs": [
    {
     "data": {
      "text/plain": [
       "<Axes: ylabel='Frequency'>"
      ]
     },
     "execution_count": 72,
     "metadata": {},
     "output_type": "execute_result"
    },
    {
     "data": {
      "image/png": "[encoded data removed]",
      "text/plain": [
       "<Figure size 640x480 with 1 Axes>"
      ]
     },
     "metadata": {},
     "output_type": "display_data"
    }
   ],
   "source": [
    "df_raw['valor'].plot(kind='hist', bins = 50)"
   ]
  },
  {
   "cell_type": "markdown",
   "metadata": {},
   "source": [
    "## 1.1. Data Cleaning"
   ]
  },
  {
   "cell_type": "code",
   "execution_count": 73,
   "metadata": {},
   "outputs": [
    {
     "data": {
      "text/plain": [
       "(466020, 8)"
      ]
     },
     "execution_count": 73,
     "metadata": {},
     "output_type": "execute_result"
    }
   ],
   "source": [
    "df1 = df_raw.copy()\n",
    "df1.shape"
   ]
  },
  {
   "cell_type": "code",
   "execution_count": 74,
   "metadata": {},
   "outputs": [
    {
     "name": "stdout",
     "output_type": "stream",
     "text": [
      "<class 'pandas.core.frame.DataFrame'>\n",
      "RangeIndex: 466020 entries, 0 to 466019\n",
      "Data columns (total 8 columns):\n",
      " #   Column         Non-Null Count   Dtype  \n",
      "---  ------         --------------   -----  \n",
      " 0   Unnamed: 0     466020 non-null  int64  \n",
      " 1   codigoFipe     466020 non-null  object \n",
      " 2   marca          466020 non-null  object \n",
      " 3   modelo         466020 non-null  object \n",
      " 4   anoModelo      466020 non-null  int64  \n",
      " 5   mesReferencia  466020 non-null  int64  \n",
      " 6   anoReferencia  466020 non-null  int64  \n",
      " 7   valor          466020 non-null  float64\n",
      "dtypes: float64(1), int64(4), object(3)\n",
      "memory usage: 28.4+ MB\n"
     ]
    }
   ],
   "source": [
    "df1.info()"
   ]
  },
  {
   "cell_type": "code",
   "execution_count": 75,
   "metadata": {},
   "outputs": [],
   "source": [
    "def snake_case(c):\n",
    "    return re.sub(r'(?<!^)(?=[A-Z])', '_', c).lower()\n",
    "df1.columns = [snake_case(c) for c in df1.columns]\n",
    "\n",
    "categorical_columns = list(df1.dtypes[df1.dtypes == 'object'].index)\n",
    "for c in categorical_columns:\n",
    "    df1[c] = df1[c].str.lower().str.replace(' ', '_')\n",
    "    df1[c] = df1[c].str.replace('-','_')\n",
    "\n",
    "df1['codigo_fipe'] = df1['codigo_fipe'].str.replace('-','')"
   ]
  },
  {
   "cell_type": "code",
   "execution_count": 76,
   "metadata": {},
   "outputs": [],
   "source": [
    "# couldn't figure out how to not import this column while reading the dataset\n",
    "df1.drop(columns=['unnamed: 0'], inplace=True)"
   ]
  },
  {
   "cell_type": "markdown",
   "metadata": {},
   "source": [
    "### 1.1.1. Checking Data Types"
   ]
  },
  {
   "cell_type": "code",
   "execution_count": 77,
   "metadata": {},
   "outputs": [
    {
     "data": {
      "text/plain": [
       "codigo_fipe        object\n",
       "marca              object\n",
       "modelo             object\n",
       "ano_modelo          int64\n",
       "mes_referencia      int64\n",
       "ano_referencia      int64\n",
       "valor             float64\n",
       "dtype: object"
      ]
     },
     "execution_count": 77,
     "metadata": {},
     "output_type": "execute_result"
    }
   ],
   "source": [
    "df1.dtypes"
   ]
  },
  {
   "cell_type": "code",
   "execution_count": 78,
   "metadata": {},
   "outputs": [],
   "source": [
    "df1['codigo_fipe'] = df1['codigo_fipe'].astype('int64')"
   ]
  },
  {
   "cell_type": "code",
   "execution_count": 79,
   "metadata": {},
   "outputs": [
    {
     "data": {
      "text/plain": [
       "codigo_fipe         int64\n",
       "marca              object\n",
       "modelo             object\n",
       "ano_modelo          int64\n",
       "mes_referencia      int64\n",
       "ano_referencia      int64\n",
       "valor             float64\n",
       "dtype: object"
      ]
     },
     "execution_count": 79,
     "metadata": {},
     "output_type": "execute_result"
    }
   ],
   "source": [
    "df1.dtypes"
   ]
  },
  {
   "cell_type": "markdown",
   "metadata": {},
   "source": [
    "### 1.1.2. Checking for Missing Values"
   ]
  },
  {
   "cell_type": "code",
   "execution_count": 80,
   "metadata": {},
   "outputs": [
    {
     "data": {
      "text/plain": [
       "codigo_fipe       0\n",
       "marca             0\n",
       "modelo            0\n",
       "ano_modelo        0\n",
       "mes_referencia    0\n",
       "ano_referencia    0\n",
       "valor             0\n",
       "dtype: int64"
      ]
     },
     "execution_count": 80,
     "metadata": {},
     "output_type": "execute_result"
    }
   ],
   "source": [
    "df1.isna().sum()"
   ]
  },
  {
   "cell_type": "markdown",
   "metadata": {},
   "source": [
    "### 1.1.3. Checking for Duplicated Values"
   ]
  },
  {
   "cell_type": "code",
   "execution_count": 81,
   "metadata": {},
   "outputs": [
    {
     "data": {
      "text/plain": [
       "0"
      ]
     },
     "execution_count": 81,
     "metadata": {},
     "output_type": "execute_result"
    }
   ],
   "source": [
    "df1.duplicated().sum()"
   ]
  },
  {
   "cell_type": "markdown",
   "metadata": {},
   "source": [
    "# 2.0. Feature Engineering"
   ]
  },
  {
   "cell_type": "code",
   "execution_count": 82,
   "metadata": {},
   "outputs": [],
   "source": [
    "df2 = df1.copy()"
   ]
  },
  {
   "cell_type": "code",
   "execution_count": 83,
   "metadata": {},
   "outputs": [],
   "source": [
    "media_por_marca = df2.groupby('marca')['valor'].mean()\n",
    "\n",
    "df2['classificacao_marca'] = df2['marca'].map(\n",
    "        lambda marca: (\n",
    "        'economical' if media_por_marca[marca] <= 50_000 else\n",
    "        'affordable' if media_por_marca[marca] <= 100_000 else\n",
    "        'mid_range' if media_por_marca[marca] <= 500_000 else\n",
    "        'luxury' if media_por_marca[marca] <= 1_000_000 else\n",
    "        'super_luxury'\n",
    "    )\n",
    ")"
   ]
  },
  {
   "cell_type": "code",
   "execution_count": 84,
   "metadata": {},
   "outputs": [],
   "source": [
    "df2['classificacao_modelo'] = df2['valor'].map(lambda x: (\n",
    "    1 if x <= 50_000 else\n",
    "    2 if x <= 100_000 else\n",
    "    3 if x <= 500_000 else\n",
    "    4 if x <= 1_000_000 else\n",
    "    5 if x <= 5_000_000 else\n",
    "    6\n",
    "))"
   ]
  },
  {
   "cell_type": "markdown",
   "metadata": {},
   "source": [
    "# 3.0. Feature Selection"
   ]
  },
  {
   "cell_type": "code",
   "execution_count": 85,
   "metadata": {},
   "outputs": [],
   "source": [
    "df3 = df2.copy()\n",
    "df3.drop(columns=['modelo'], inplace=True)"
   ]
  },
  {
   "cell_type": "code",
   "execution_count": 86,
   "metadata": {},
   "outputs": [
    {
     "data": {
      "text/plain": [
       "Index(['codigo_fipe', 'marca', 'ano_modelo', 'mes_referencia',\n",
       "       'ano_referencia', 'valor', 'classificacao_marca',\n",
       "       'classificacao_modelo'],\n",
       "      dtype='object')"
      ]
     },
     "execution_count": 86,
     "metadata": {},
     "output_type": "execute_result"
    }
   ],
   "source": [
    "df3.columns"
   ]
  },
  {
   "cell_type": "markdown",
   "metadata": {},
   "source": [
    "# 4.0 Spliting Data"
   ]
  },
  {
   "cell_type": "code",
   "execution_count": 87,
   "metadata": {},
   "outputs": [],
   "source": [
    "df4 = df3.copy()\n",
    "df_full_train, df_test = train_test_split(df4, test_size=0.2, random_state=42)\n",
    "df_train, df_val = train_test_split(df_full_train, test_size=0.25, random_state=42)\n",
    "\n",
    "X_train = df_train.reset_index(drop=True)\n",
    "X_val = df_val.reset_index(drop=True)\n",
    "X_test = df_test.reset_index(drop=True)\n",
    "\n",
    "y_train = X_train.valor.values\n",
    "y_val = X_val.valor.values\n",
    "y_test = X_test.valor.values\n",
    "\n",
    "X_train.drop(columns=['valor'], inplace=True)\n",
    "X_val.drop(columns=['valor'], inplace=True)\n",
    "X_test.drop(columns=['valor'], inplace=True)"
   ]
  },
  {
   "cell_type": "markdown",
   "metadata": {},
   "source": [
    "## 4.1. Transformation & Scaling"
   ]
  },
  {
   "cell_type": "code",
   "execution_count": 88,
   "metadata": {},
   "outputs": [],
   "source": [
    "# logarithmic transformation\n",
    "y_train_log = np.log1p(y_train)\n",
    "y_val_log = np.log1p(y_val)\n",
    "y_test_log = np.log1p(y_test)\n",
    "\n",
    "# scaling of numerical features\n",
    "numerical_cols = ['codigo_fipe', 'ano_modelo', 'classificacao_modelo', 'ano_referencia', 'mes_referencia']\n",
    "scaler = StandardScaler()\n",
    "X_train[numerical_cols] = scaler.fit_transform(X_train[numerical_cols])\n",
    "X_val[numerical_cols] = scaler.transform(X_val[numerical_cols])\n",
    "X_test[numerical_cols] = scaler.transform(X_test[numerical_cols])"
   ]
  },
  {
   "cell_type": "markdown",
   "metadata": {},
   "source": [
    "## 4.2. Encoding"
   ]
  },
  {
   "cell_type": "code",
   "execution_count": 89,
   "metadata": {},
   "outputs": [
    {
     "name": "stdout",
     "output_type": "stream",
     "text": [
      "X_train shape: (279612, 12), y_train shape: (279612,)\n",
      "X_val shape: (93204, 12), y_val shape: (93204,)\n",
      "X_test shape: (93204, 12), y_test shape: (93204,)\n"
     ]
    }
   ],
   "source": [
    "# OHE to 'classificacao_marca'\n",
    "X_train = pd.get_dummies(X_train, columns=['classificacao_marca'], drop_first=False)\n",
    "X_val = pd.get_dummies(X_val, columns=['classificacao_marca'], drop_first=False)\n",
    "X_test = pd.get_dummies(X_test, columns=['classificacao_marca'], drop_first=False)\n",
    "\n",
    "# Embedding Layers to 'marca'\n",
    "label_encoder = LabelEncoder()\n",
    "X_train['marca_encoded'] = label_encoder.fit_transform(X_train['marca'])\n",
    "X_val['marca_encoded'] = label_encoder.transform(X_val['marca'])\n",
    "X_test['marca_encoded'] = label_encoder.transform(X_test['marca'])\n",
    "\n",
    "num_categories = len(label_encoder.classes_)\n",
    "embedding_dim = 10 \n",
    "embedding_layer = nn.Embedding(num_categories, embedding_dim)\n",
    "\n",
    "marca_indices = torch.tensor([0, 1, 2])\n",
    "marca_embeddings = embedding_layer(marca_indices)\n",
    "\n",
    "print(f\"X_train shape: {X_train.shape}, y_train shape: {y_train_log.shape}\")\n",
    "print(f\"X_val shape: {X_val.shape}, y_val shape: {y_val_log.shape}\")\n",
    "print(f\"X_test shape: {X_test.shape}, y_test shape: {y_test_log.shape}\")"
   ]
  },
  {
   "cell_type": "code",
   "execution_count": 90,
   "metadata": {},
   "outputs": [],
   "source": [
    "X_train_tensor = torch.tensor(X_train.drop(columns=['marca', 'marca_encoded']).astype('float32').values, dtype=torch.float32)\n",
    "X_val_tensor = torch.tensor(X_val.drop(columns=['marca', 'marca_encoded']).astype('float32').values, dtype=torch.float32)\n",
    "X_test_tensor = torch.tensor(X_test.drop(columns=['marca', 'marca_encoded']).astype('float32').values, dtype=torch.float32)\n",
    "\n",
    "y_train_tensor = torch.tensor(y_train_log, dtype=torch.float32).view(-1, 1)\n",
    "y_val_tensor = torch.tensor(y_val_log, dtype=torch.float32).view(-1, 1)\n",
    "y_test_tensor = torch.tensor(y_test_log, dtype=torch.float32).view(-1, 1)\n",
    "\n",
    "X_train_cat = torch.tensor(X_train['marca_encoded'].values, dtype=torch.long)\n",
    "X_val_cat = torch.tensor(X_val['marca_encoded'].values, dtype=torch.long)\n",
    "X_test_cat = torch.tensor(X_test['marca_encoded'].values, dtype=torch.long)"
   ]
  },
  {
   "cell_type": "markdown",
   "metadata": {},
   "source": [
    "# 5.0. Training Neural Network"
   ]
  },
  {
   "cell_type": "code",
   "execution_count": 91,
   "metadata": {},
   "outputs": [],
   "source": [
    "class NeuralNetwork(nn.Module):\n",
    "    def __init__(self, embedding_dim, num_categories, input_dim, hidden_dim=64):\n",
    "        super(NeuralNetwork, self).__init__()\n",
    "        \n",
    "        self.embedding = nn.Embedding(num_categories, embedding_dim)\n",
    "        self.fc1 = nn.Linear(input_dim + embedding_dim, hidden_dim)\n",
    "        self.fc2 = nn.Linear(hidden_dim, hidden_dim)\n",
    "        self.fc3 = nn.Linear(hidden_dim, 1)\n",
    "        \n",
    "    def forward(self, x_numeric, x_categorical):\n",
    "        x_embedded = self.embedding(x_categorical)\n",
    "        \n",
    "        # verify shape\n",
    "        print(f\"Numeric Input Shape: {x_numeric.shape}\")\n",
    "        print(f\"Categorical Embedding Shape: {x_embedded.shape}\")\n",
    "        \n",
    "        x = torch.cat((x_numeric, x_embedded), dim=1)\n",
    "        \n",
    "        # confirm dimension\n",
    "        print(f\"Concatenated Input Shape: {x.shape}\")\n",
    "        \n",
    "        x = torch.relu(self.fc1(x))\n",
    "        x = torch.relu(self.fc2(x))\n",
    "        x = self.fc3(x)\n",
    "        \n",
    "        return x\n",
    "\n",
    "embedding_dim = 10\n",
    "num_categories = len(label_encoder.classes_)\n",
    "input_dim = X_train_tensor.shape[1]\n",
    "\n",
    "model = NeuralNetwork(embedding_dim, num_categories, input_dim)\n"
   ]
  },
  {
   "cell_type": "code",
   "execution_count": 92,
   "metadata": {},
   "outputs": [],
   "source": [
    "criterion = nn.MSELoss()\n",
    "optimizer = optim.Adam(model.parameters(), lr=0.001)"
   ]
  },
  {
   "cell_type": "code",
   "execution_count": 93,
   "metadata": {},
   "outputs": [],
   "source": [
    "def train_model(model, X_train_tensor, X_train_cat, y_train_tensor, epochs=50, batch_size=32):\n",
    "    model.train()\n",
    "    for epoch in range(epochs):\n",
    "        perm = torch.randperm(X_train_tensor.size(0))\n",
    "        \n",
    "        for i in range(0, X_train_tensor.size(0), batch_size):\n",
    "            batch_idx = perm[i:i+batch_size]\n",
    "            X_batch_numeric = X_train_tensor[batch_idx]\n",
    "            X_batch_cat = X_train_cat[batch_idx]\n",
    "            y_batch = y_train_tensor[batch_idx]\n",
    "            \n",
    "            optimizer.zero_grad()\n",
    "            \n",
    "            y_pred = model(X_batch_numeric, X_batch_cat)\n",
    "            \n",
    "            loss = criterion(y_pred, y_batch)\n",
    "            \n",
    "            loss.backward()\n",
    "            optimizer.step()\n",
    "            \n",
    "        if (epoch + 1) % 10 == 0:\n",
    "            print(f'Epoch {epoch + 1}/{epochs}, Loss:{loss.item()}')"
   ]
  },
  {
   "cell_type": "code",
   "execution_count": 94,
   "metadata": {},
   "outputs": [],
   "source": [
    "def evaluate_model(model, x_numeric, x_categorical, y_true_log):\n",
    "    model.eval()\n",
    "    with torch.no_grad():\n",
    "        y_pred_log = model(x_numeric, x_categorical).squeeze(1).numpy()\n",
    "        y_true_original = np.expm1(y_true_log.squeeze().numpy())\n",
    "        \n",
    "        print(f\"y_pred_log shape: {y_pred_log.shape}\")\n",
    "        print(f\"y_true_original shape: {y_true_original.shape}\")\n",
    "        assert y_pred_log.shape == y_true_original.shape, \\\n",
    "            f\"Dimensões incompatíveis: y_pred_log={y_pred_log.shape}, y_true_original={y_true_original.shape}\"\n",
    "        \n",
    "        y_pred_original = np.expm1(y_pred_log)\n",
    "        \n",
    "        rmse = np.sqrt(np.mean((y_true_original - y_pred_original) ** 2))\n",
    "        print(f\"Validation RMSE: {rmse}\")\n",
    "        \n",
    "        return y_pred_original, rmse\n"
   ]
  },
  {
   "cell_type": "code",
   "execution_count": 95,
   "metadata": {},
   "outputs": [
    {
     "name": "stdout",
     "output_type": "stream",
     "text": [
      "Numeric Input Shape: torch.Size([93204, 10])\n",
      "Categorical Embedding Shape: torch.Size([93204, 10])\n",
      "Concatenated Input Shape: torch.Size([93204, 20])\n",
      "y_pred_log shape: (93204,)\n",
      "y_true_original shape: (93204,)\n",
      "Validation RMSE: 344206.78125\n"
     ]
    },
    {
     "data": {
      "text/plain": [
       "(array([ 0.07533637,  0.09524595, -0.03020955, ...,  0.18097398,\n",
       "        -0.01794663,  0.10588169], dtype=float32),\n",
       " 344206.78)"
      ]
     },
     "execution_count": 95,
     "metadata": {},
     "output_type": "execute_result"
    }
   ],
   "source": [
    "evaluate_model(model, X_val_tensor, X_val_cat, y_val_tensor)"
   ]
  },
  {
   "cell_type": "code",
   "execution_count": 96,
   "metadata": {},
   "outputs": [
    {
     "name": "stdout",
     "output_type": "stream",
     "text": [
      "Numeric Input Shape: torch.Size([93204, 10])\n",
      "Categorical Embedding Shape: torch.Size([93204, 10])\n",
      "Concatenated Input Shape: torch.Size([93204, 20])\n",
      "y_pred_log shape: (93204,)\n",
      "y_true_original shape: (93204,)\n",
      "Validation RMSE: 349783.6875\n"
     ]
    },
    {
     "data": {
      "text/plain": [
       "(array([ 0.0559428 , -0.04806855,  0.07359068, ..., -0.00763141,\n",
       "         0.07520441,  0.02188597], dtype=float32),\n",
       " 349783.7)"
      ]
     },
     "execution_count": 96,
     "metadata": {},
     "output_type": "execute_result"
    }
   ],
   "source": [
    "evaluate_model(model, X_test_tensor, X_test_cat, y_test_tensor)"
   ]
  }
 ],
 "metadata": {
  "kernelspec": {
   "display_name": "final-project-f2oLlADX-py3.11",
   "language": "python",
   "name": "python3"
  },
  "language_info": {
   "codemirror_mode": {
    "name": "ipython",
    "version": 3
   },
   "file_extension": ".py",
   "mimetype": "text/x-python",
   "name": "python",
   "nbconvert_exporter": "python",
   "pygments_lexer": "ipython3",
   "version": "3.11.9"
  }
 },
 "nbformat": 4,
 "nbformat_minor": 2
}
